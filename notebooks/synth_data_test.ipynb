{
 "cells": [
  {
   "cell_type": "code",
   "execution_count": 1,
   "metadata": {
    "collapsed": false
   },
   "outputs": [],
   "source": [
    "%load_ext autoreload\n",
    "%autoreload 2\n",
    "%matplotlib inline\n",
    "\n",
    "import sys\n",
    "basedir = '../'\n",
    "sys.path.append(basedir)\n",
    "\n",
    "import numpy as np\n",
    "from numpy.random import RandomState\n",
    "import pandas as pd\n",
    "from IPython.display import display\n",
    "\n",
    "from synth_data import HldaDataGenerator\n",
    "from hlda import NCRPNode"
   ]
  },
  {
   "cell_type": "markdown",
   "metadata": {},
   "source": [
    "Synthetic data test for hierarchical LDA inference."
   ]
  },
  {
   "cell_type": "markdown",
   "metadata": {},
   "source": [
    "# 1. Generate Vocab"
   ]
  },
  {
   "cell_type": "code",
   "execution_count": 140,
   "metadata": {
    "collapsed": false
   },
   "outputs": [
    {
     "name": "stdout",
     "output_type": "stream",
     "text": [
      "[['w0' 'w1' 'w2' 'w3' 'w4' 'w5' 'w6' 'w7' 'w8' 'w9']\n",
      " ['w10' 'w11' 'w12' 'w13' 'w14' 'w15' 'w16' 'w17' 'w18' 'w19']\n",
      " ['w20' 'w21' 'w22' 'w23' 'w24' 'w25' 'w26' 'w27' 'w28' 'w29']\n",
      " ['w30' 'w31' 'w32' 'w33' 'w34' 'w35' 'w36' 'w37' 'w38' 'w39']\n",
      " ['w40' 'w41' 'w42' 'w43' 'w44' 'w45' 'w46' 'w47' 'w48' 'w49']\n",
      " ['w50' 'w51' 'w52' 'w53' 'w54' 'w55' 'w56' 'w57' 'w58' 'w59']\n",
      " ['w60' 'w61' 'w62' 'w63' 'w64' 'w65' 'w66' 'w67' 'w68' 'w69']\n",
      " ['w70' 'w71' 'w72' 'w73' 'w74' 'w75' 'w76' 'w77' 'w78' 'w79']\n",
      " ['w80' 'w81' 'w82' 'w83' 'w84' 'w85' 'w86' 'w87' 'w88' 'w89']\n",
      " ['w90' 'w91' 'w92' 'w93' 'w94' 'w95' 'w96' 'w97' 'w98' 'w99']]\n"
     ]
    }
   ],
   "source": [
    "n_rows = 10\n",
    "n_cols = 10\n",
    "vocab_mat = np.zeros((n_rows, n_cols), dtype=np.object)\n",
    "word_count = 0\n",
    "for i in range(n_rows):\n",
    "    for j in range(n_cols):\n",
    "        vocab_mat[i, j] = 'w%s' % word_count\n",
    "        word_count += 1\n",
    "        \n",
    "print vocab_mat"
   ]
  },
  {
   "cell_type": "code",
   "execution_count": 141,
   "metadata": {
    "collapsed": false
   },
   "outputs": [
    {
     "name": "stdout",
     "output_type": "stream",
     "text": [
      "['w0', 'w1', 'w2', 'w3', 'w4', 'w5', 'w6', 'w7', 'w8', 'w9', 'w10', 'w11', 'w12', 'w13', 'w14', 'w15', 'w16', 'w17', 'w18', 'w19', 'w20', 'w21', 'w22', 'w23', 'w24', 'w25', 'w26', 'w27', 'w28', 'w29', 'w30', 'w31', 'w32', 'w33', 'w34', 'w35', 'w36', 'w37', 'w38', 'w39', 'w40', 'w41', 'w42', 'w43', 'w44', 'w45', 'w46', 'w47', 'w48', 'w49', 'w50', 'w51', 'w52', 'w53', 'w54', 'w55', 'w56', 'w57', 'w58', 'w59', 'w60', 'w61', 'w62', 'w63', 'w64', 'w65', 'w66', 'w67', 'w68', 'w69', 'w70', 'w71', 'w72', 'w73', 'w74', 'w75', 'w76', 'w77', 'w78', 'w79', 'w80', 'w81', 'w82', 'w83', 'w84', 'w85', 'w86', 'w87', 'w88', 'w89', 'w90', 'w91', 'w92', 'w93', 'w94', 'w95', 'w96', 'w97', 'w98', 'w99']\n"
     ]
    }
   ],
   "source": [
    "vocab = vocab_mat.flatten().tolist()\n",
    "print vocab"
   ]
  },
  {
   "cell_type": "markdown",
   "metadata": {},
   "source": [
    "# 2. Assign Documents to Tree"
   ]
  },
  {
   "cell_type": "code",
   "execution_count": 86,
   "metadata": {
    "collapsed": false
   },
   "outputs": [
    {
     "name": "stdout",
     "output_type": "stream",
     "text": [
      "11\n",
      "node 0 (level=0, documents=100):\t\t\n",
      "    node 1 (level=1, documents=71):\t\t\n",
      "        node 2 (level=2, documents=62):\t\t\n",
      "        node 8 (level=2, documents=7):\t\t\n",
      "        node 10 (level=2, documents=2):\t\t\n",
      "    node 3 (level=1, documents=29):\t\t\n",
      "        node 4 (level=2, documents=3):\t\t\n",
      "        node 5 (level=2, documents=12):\t\t\n",
      "        node 6 (level=2, documents=9):\t\t\n",
      "        node 7 (level=2, documents=3):\t\t\n",
      "        node 9 (level=2, documents=2):\t\t\n"
     ]
    }
   ],
   "source": [
    "NCRPNode.total_nodes = 0\n",
    "NCRPNode.last_node_id = 0\n",
    "num_levels = 3\n",
    "gamma = 1\n",
    "num_docs = 100\n",
    "\n",
    "root_node = NCRPNode(num_levels, vocab)\n",
    "document_path = {}\n",
    "unique_nodes = set()\n",
    "unique_nodes.add(root_node)\n",
    "for d in range(num_docs):\n",
    "\n",
    "    # populate nodes into the path of this document\n",
    "    path = np.zeros(num_levels, dtype=np.object)\n",
    "    path[0] = root_node\n",
    "    root_node.customers += 1 # always add to the root node first\n",
    "    for level in range(1, num_levels):\n",
    "        # at each level, a node is selected by its parent node based on the CRP prior\n",
    "        parent_node = path[level-1]\n",
    "        level_node = parent_node.select(gamma)\n",
    "        level_node.customers += 1\n",
    "        path[level] = level_node\n",
    "        unique_nodes.add(level_node)\n",
    "\n",
    "    # set the leaf node for this document                 \n",
    "    document_path[d] = path\n",
    "    \n",
    "unique_nodes = sorted(unique_nodes, key=lambda x: x.node_id)\n",
    "print len(unique_nodes)\n",
    "    \n",
    "def print_node(node, indent, node_topic):\n",
    "    out = '    ' * indent\n",
    "    out += 'node %d (level=%d, documents=%d): ' % (node.node_id, node.level, node.customers)\n",
    "    if node in node_topic:\n",
    "        probs, words = node_topic[node]\n",
    "        out += ' '.join(words)\n",
    "    print out        \n",
    "    for child in node.children:\n",
    "        print_node(child, indent+1, node_topic)        \n",
    "\n",
    "node_topic = {}\n",
    "print_node(root_node, 0, node_topic)"
   ]
  },
  {
   "cell_type": "markdown",
   "metadata": {},
   "source": [
    "# 3. Assign Each Node Along the Tree to a Topic"
   ]
  },
  {
   "cell_type": "code",
   "execution_count": 87,
   "metadata": {
    "collapsed": false
   },
   "outputs": [
    {
     "name": "stdout",
     "output_type": "stream",
     "text": [
      "[ 0.15371927  0.04026764  0.20572376  0.0547151   0.12450964  0.00613161\n",
      "  0.00932277  0.05206163  0.11992228  0.23362631]\n",
      "['word_0' 'word_10' 'word_20' 'word_30' 'word_40' 'word_50' 'word_60'\n",
      " 'word_70' 'word_80' 'word_90']\n",
      "1.0\n"
     ]
    }
   ],
   "source": [
    "def get_words(vocab_mat, alpha, pos, dim):\n",
    "\n",
    "    if dim == 'row':\n",
    "        words = vocab_mat[pos]\n",
    "    elif dim == 'col':\n",
    "        words = vocab_mat[:, pos]\n",
    "    \n",
    "    k = len(words)\n",
    "    alpha = [alpha] * k\n",
    "    probs = np.random.dirichlet(alpha)\n",
    "    return probs, words\n",
    "    \n",
    "pos = 0\n",
    "probs, words = get_words(vocab_mat, eta, pos, 'col')\n",
    "print probs\n",
    "print words\n",
    "print np.sum(probs)"
   ]
  },
  {
   "cell_type": "code",
   "execution_count": 143,
   "metadata": {
    "collapsed": false
   },
   "outputs": [
    {
     "name": "stdout",
     "output_type": "stream",
     "text": [
      "11\n"
     ]
    }
   ],
   "source": [
    "eta = 1\n",
    "node_topic = {}\n",
    "node_topic[unique_nodes[0]] = get_words(vocab_mat, eta, 0, 'row') \n",
    "node_topic[unique_nodes[1]] = get_words(vocab_mat, eta, 1, 'row') \n",
    "node_topic[unique_nodes[2]] = get_words(vocab_mat, eta, 2, 'row') \n",
    "node_topic[unique_nodes[3]] = get_words(vocab_mat, eta, 3, 'row') \n",
    "node_topic[unique_nodes[4]] = get_words(vocab_mat, eta, 4, 'row') \n",
    "node_topic[unique_nodes[5]] = get_words(vocab_mat, eta, 5, 'row') \n",
    "node_topic[unique_nodes[6]] = get_words(vocab_mat, eta, 6, 'row') \n",
    "node_topic[unique_nodes[7]] = get_words(vocab_mat, eta, 7, 'row') \n",
    "node_topic[unique_nodes[8]] = get_words(vocab_mat, eta, 8, 'row') \n",
    "node_topic[unique_nodes[9]] = get_words(vocab_mat, eta, 9, 'row') \n",
    "node_topic[unique_nodes[10]] = get_words(vocab_mat, eta, 1, 'col') \n",
    "print len(node_topic)"
   ]
  },
  {
   "cell_type": "code",
   "execution_count": 144,
   "metadata": {
    "collapsed": false
   },
   "outputs": [
    {
     "name": "stdout",
     "output_type": "stream",
     "text": [
      "node 0 (level=0, documents=100): \tw0 w1 w2 w3 w4 w5 w6 w7 w8 w9\n",
      "    node 1 (level=1, documents=71): \tw10 w11 w12 w13 w14 w15 w16 w17 w18 w19\n",
      "        node 2 (level=2, documents=62): \tw20 w21 w22 w23 w24 w25 w26 w27 w28 w29\n",
      "        node 8 (level=2, documents=7): \tw80 w81 w82 w83 w84 w85 w86 w87 w88 w89\n",
      "        node 10 (level=2, documents=2): \tw1 w11 w21 w31 w41 w51 w61 w71 w81 w91\n",
      "    node 3 (level=1, documents=29): \tw30 w31 w32 w33 w34 w35 w36 w37 w38 w39\n",
      "        node 4 (level=2, documents=3): \tw40 w41 w42 w43 w44 w45 w46 w47 w48 w49\n",
      "        node 5 (level=2, documents=12): \tw50 w51 w52 w53 w54 w55 w56 w57 w58 w59\n",
      "        node 6 (level=2, documents=9): \tw60 w61 w62 w63 w64 w65 w66 w67 w68 w69\n",
      "        node 7 (level=2, documents=3): \tw70 w71 w72 w73 w74 w75 w76 w77 w78 w79\n",
      "        node 9 (level=2, documents=2): \tw90 w91 w92 w93 w94 w95 w96 w97 w98 w99\n"
     ]
    }
   ],
   "source": [
    "print_node(root_node, 0, node_topic)"
   ]
  },
  {
   "cell_type": "markdown",
   "metadata": {},
   "source": [
    "# 4. Generate Words in a Document Based on Its Path"
   ]
  },
  {
   "cell_type": "code",
   "execution_count": 145,
   "metadata": {
    "collapsed": false
   },
   "outputs": [],
   "source": [
    "def generate_document(topics, theta, doc_len):\n",
    "\n",
    "    # for every word in the vocab for this document\n",
    "    doc = []\n",
    "    for n in range(doc_len):\n",
    "\n",
    "        # sample a new topic index    \n",
    "        k = np.random.multinomial(1, theta).argmax()\n",
    "\n",
    "        # sample a new word from the word distribution of topic k\n",
    "        probs, words = topics[k]\n",
    "        w = np.random.multinomial(1, probs).argmax()\n",
    "        doc_word = words[w]\n",
    "\n",
    "        doc.append(doc_word)\n",
    "\n",
    "    return doc"
   ]
  },
  {
   "cell_type": "code",
   "execution_count": 146,
   "metadata": {
    "collapsed": false
   },
   "outputs": [],
   "source": [
    "corpus = []\n",
    "alpha = [2.0, 1.0, 0.5]\n",
    "doc_len = 250\n",
    "for d in range(num_docs):\n",
    "    path = document_path[d]\n",
    "    topics = [node_topic[node] for node in path]\n",
    "    theta = np.random.mtrand.dirichlet(alpha)\n",
    "    doc = generate_document(topics, theta, doc_len)\n",
    "    corpus.append(doc)"
   ]
  },
  {
   "cell_type": "code",
   "execution_count": 174,
   "metadata": {
    "collapsed": true
   },
   "outputs": [],
   "source": [
    "import os\n",
    "\n",
    "outdir = '/Users/joewandy/Dropbox/Analysis/hLDA/data/synthetic/'\n",
    "for d in range(len(corpus)):\n",
    "    doc = corpus[d]\n",
    "    file_name = 'doc_%d.txt' % d\n",
    "    file_path = os.path.join(outdir, file_name)\n",
    "    with open(file_path, 'w') as f:\n",
    "        f.write(\"%s\\n\" % ' '.join(doc))"
   ]
  },
  {
   "cell_type": "markdown",
   "metadata": {},
   "source": [
    "# 5. Run hLDA"
   ]
  },
  {
   "cell_type": "code",
   "execution_count": 147,
   "metadata": {
    "collapsed": false
   },
   "outputs": [
    {
     "name": "stdout",
     "output_type": "stream",
     "text": [
      "100 100 250\n"
     ]
    }
   ],
   "source": [
    "print len(vocab), len(corpus), len(corpus[0])"
   ]
  },
  {
   "cell_type": "markdown",
   "metadata": {},
   "source": [
    "convert corpus words into indices"
   ]
  },
  {
   "cell_type": "code",
   "execution_count": 148,
   "metadata": {
    "collapsed": true
   },
   "outputs": [],
   "source": [
    "new_corpus = []\n",
    "for doc in corpus:\n",
    "    new_doc = []\n",
    "    for word in doc:\n",
    "        word_idx = vocab.index(word)\n",
    "        new_doc.append(word_idx)\n",
    "    new_corpus.append(new_doc)"
   ]
  },
  {
   "cell_type": "code",
   "execution_count": 151,
   "metadata": {
    "collapsed": false
   },
   "outputs": [
    {
     "name": "stdout",
     "output_type": "stream",
     "text": [
      "100 100\n",
      "['w8', 'w3', 'w8', 'w3', 'w7', 'w8', 'w1', 'w3', 'w5', 'w1', 'w4', 'w1', 'w0', 'w1', 'w9', 'w10', 'w1', 'w8', 'w1', 'w2', 'w6', 'w4', 'w8', 'w1', 'w1', 'w0', 'w6', 'w2', 'w3', 'w1', 'w6', 'w1', 'w7', 'w1', 'w3', 'w3', 'w7', 'w6', 'w6', 'w6', 'w7', 'w16', 'w9', 'w6', 'w6', 'w7', 'w3', 'w6', 'w3', 'w3', 'w2', 'w8', 'w3', 'w7', 'w8', 'w6', 'w19', 'w1', 'w6', 'w10', 'w4', 'w3', 'w4', 'w1', 'w1', 'w3', 'w1', 'w1', 'w6', 'w2', 'w2', 'w7', 'w1', 'w6', 'w6', 'w1', 'w15', 'w6', 'w19', 'w9', 'w1', 'w16', 'w7', 'w1', 'w7', 'w5', 'w4', 'w6', 'w12', 'w7', 'w7', 'w7', 'w1', 'w8', 'w6', 'w6', 'w1', 'w3', 'w1', 'w1', 'w6', 'w6', 'w1', 'w2', 'w5', 'w10', 'w18', 'w19', 'w3', 'w8', 'w1', 'w10', 'w3', 'w1', 'w7', 'w1', 'w6', 'w6', 'w8', 'w3', 'w1', 'w6', 'w7', 'w0', 'w6', 'w6', 'w3', 'w3', 'w18', 'w14', 'w11', 'w2', 'w10', 'w6', 'w7', 'w3', 'w3', 'w7', 'w1', 'w6', 'w1', 'w3', 'w2', 'w2', 'w4', 'w2', 'w7', 'w10', 'w7', 'w8', 'w22', 'w14', 'w10', 'w6', 'w7', 'w3', 'w6', 'w19', 'w9', 'w7', 'w1', 'w3', 'w2', 'w8', 'w2', 'w3', 'w3', 'w2', 'w8', 'w8', 'w1', 'w1', 'w3', 'w6', 'w1', 'w7', 'w7', 'w7', 'w8', 'w9', 'w8', 'w3', 'w1', 'w2', 'w3', 'w1', 'w6', 'w7', 'w7', 'w7', 'w8', 'w1', 'w1', 'w9', 'w16', 'w4', 'w19', 'w5', 'w5', 'w0', 'w8', 'w7', 'w1', 'w9', 'w7', 'w3', 'w3', 'w1', 'w1', 'w27', 'w6', 'w7', 'w1', 'w6', 'w3', 'w9', 'w1', 'w1', 'w9', 'w6', 'w4', 'w1', 'w1', 'w1', 'w3', 'w2', 'w1', 'w1', 'w3', 'w7', 'w1', 'w8', 'w1', 'w1', 'w10', 'w1', 'w4', 'w6', 'w1', 'w7', 'w7', 'w3', 'w9', 'w4', 'w1', 'w6', 'w0', 'w3', 'w1', 'w6']\n",
      "[8, 3, 8, 3, 7, 8, 1, 3, 5, 1, 4, 1, 0, 1, 9, 10, 1, 8, 1, 2, 6, 4, 8, 1, 1, 0, 6, 2, 3, 1, 6, 1, 7, 1, 3, 3, 7, 6, 6, 6, 7, 16, 9, 6, 6, 7, 3, 6, 3, 3, 2, 8, 3, 7, 8, 6, 19, 1, 6, 10, 4, 3, 4, 1, 1, 3, 1, 1, 6, 2, 2, 7, 1, 6, 6, 1, 15, 6, 19, 9, 1, 16, 7, 1, 7, 5, 4, 6, 12, 7, 7, 7, 1, 8, 6, 6, 1, 3, 1, 1, 6, 6, 1, 2, 5, 10, 18, 19, 3, 8, 1, 10, 3, 1, 7, 1, 6, 6, 8, 3, 1, 6, 7, 0, 6, 6, 3, 3, 18, 14, 11, 2, 10, 6, 7, 3, 3, 7, 1, 6, 1, 3, 2, 2, 4, 2, 7, 10, 7, 8, 22, 14, 10, 6, 7, 3, 6, 19, 9, 7, 1, 3, 2, 8, 2, 3, 3, 2, 8, 8, 1, 1, 3, 6, 1, 7, 7, 7, 8, 9, 8, 3, 1, 2, 3, 1, 6, 7, 7, 7, 8, 1, 1, 9, 16, 4, 19, 5, 5, 0, 8, 7, 1, 9, 7, 3, 3, 1, 1, 27, 6, 7, 1, 6, 3, 9, 1, 1, 9, 6, 4, 1, 1, 1, 3, 2, 1, 1, 3, 7, 1, 8, 1, 1, 10, 1, 4, 6, 1, 7, 7, 3, 9, 4, 1, 6, 0, 3, 1, 6]\n"
     ]
    }
   ],
   "source": [
    "print len(vocab), len(new_corpus)\n",
    "print corpus[0]\n",
    "print new_corpus[0]"
   ]
  },
  {
   "cell_type": "code",
   "execution_count": 165,
   "metadata": {
    "collapsed": true
   },
   "outputs": [],
   "source": [
    "from hlda import HierarchicalLDA"
   ]
  },
  {
   "cell_type": "code",
   "execution_count": 169,
   "metadata": {
    "collapsed": false
   },
   "outputs": [
    {
     "name": "stdout",
     "output_type": "stream",
     "text": [
      "[2.0, 1.0, 0.5] 1 1\n"
     ]
    }
   ],
   "source": [
    "print alpha, gamma, eta"
   ]
  },
  {
   "cell_type": "code",
   "execution_count": 175,
   "metadata": {
    "collapsed": false,
    "scrolled": true
   },
   "outputs": [
    {
     "name": "stdout",
     "output_type": "stream",
     "text": [
      "HierarchicalLDA sampling\n",
      "..................................................\n",
      "topic 0 (level=0, total_words=14193, documents=100): w1, w6, w3, w7, w8, w4, w2, w9, w0, w5, \n",
      "    topic 1 (level=1, total_words=289, documents=24): w77, w71, w76, w36, w74, w72, w30, w73, w6, w33, \n",
      "        topic 2 (level=2, total_words=1848, documents=22): w37, w36, w38, w30, w34, w31, w7, w33, w1, w52, \n",
      "        topic 18 (level=2, total_words=248, documents=2): w88, w10, w82, w83, w19, w14, w15, w87, w84, w16, \n",
      "    topic 3 (level=1, total_words=12, documents=17): w24, w3, w6, w20, w23, w29, w36, w28, w30, w31, \n",
      "        topic 14 (level=2, total_words=1783, documents=17): w10, w27, w14, w19, w26, w16, w11, w28, w15, w22, \n",
      "    topic 5 (level=1, total_words=1049, documents=38): w10, w14, w19, w16, w15, w27, w22, w28, w11, w1, \n",
      "        topic 7 (level=2, total_words=134, documents=4): w10, w14, w11, w19, w15, w16, w26, w3, w9, w7, \n",
      "        topic 15 (level=2, total_words=3111, documents=34): w10, w14, w19, w16, w11, w15, w1, w12, w6, w7, \n",
      "    topic 8 (level=1, total_words=4, documents=8): w2, w4, w65, w9, w99, w36, w28, w29, w30, w31, \n",
      "        topic 16 (level=2, total_words=600, documents=6): w64, w37, w36, w67, w38, w65, w66, w69, w30, w62, \n",
      "        topic 40 (level=2, total_words=213, documents=2): w37, w36, w38, w31, w30, w34, w48, w97, w35, w98, \n",
      "    topic 21 (level=1, total_words=16, documents=13): w5, w0, w11, w1, w2, w15, w22, w27, w4, w45, \n",
      "        topic 22 (level=2, total_words=1500, documents=13): w27, w26, w28, w22, w25, w24, w29, w21, w20, w23, \n",
      "..................................................\n",
      "topic 0 (level=0, total_words=14411, documents=100): w1, w6, w3, w7, w8, w4, w2, w9, w0, w5, \n",
      "    topic 1 (level=1, total_words=259, documents=21): w77, w71, w76, w74, w72, w73, w37, w36, w33, w38, \n",
      "        topic 2 (level=2, total_words=1637, documents=19): w37, w36, w38, w30, w34, w31, w33, w52, w56, w58, \n",
      "        topic 18 (level=2, total_words=245, documents=2): w88, w10, w82, w83, w14, w19, w87, w84, w15, w16, \n",
      "    topic 3 (level=1, total_words=13, documents=21): w25, w22, w16, w14, w24, w1, w10, w12, w37, w30, \n",
      "        topic 14 (level=2, total_words=1936, documents=20): w10, w27, w14, w19, w26, w16, w11, w15, w28, w22, \n",
      "        topic 110 (level=2, total_words=151, documents=1): w37, w36, w30, w38, w31, w34, w1, w97, w95, w98, \n",
      "    topic 5 (level=1, total_words=289, documents=34): w27, w22, w26, w28, w25, w29, w21, w6, w19, w24, \n",
      "        topic 15 (level=2, total_words=3623, documents=34): w10, w14, w19, w16, w15, w11, w12, w1, w13, w7, \n",
      "    topic 8 (level=1, total_words=11, documents=9): w49, w61, w1, w2, w30, w41, w39, w64, w63, w35, \n",
      "        topic 16 (level=2, total_words=688, documents=8): w37, w64, w36, w38, w67, w65, w66, w69, w30, w34, \n",
      "        topic 109 (level=2, total_words=71, documents=1): w48, w43, w47, w40, w38, w45, w37, w34, w30, w2, \n",
      "    topic 21 (level=1, total_words=12, documents=15): w16, w6, w0, w25, w23, w4, w7, w12, w28, w30, \n",
      "        topic 22 (level=2, total_words=1654, documents=15): w27, w26, w28, w22, w25, w24, w29, w21, w20, w23, \n",
      "..................................................\n",
      "topic 0 (level=0, total_words=14227, documents=100): w1, w6, w3, w7, w8, w2, w4, w9, w0, w5, \n",
      "    topic 1 (level=1, total_words=271, documents=22): w77, w71, w76, w74, w36, w72, w37, w73, w33, w30, \n",
      "        topic 2 (level=2, total_words=1751, documents=19): w37, w36, w38, w30, w34, w31, w33, w52, w7, w1, \n",
      "        topic 18 (level=2, total_words=257, documents=3): w88, w10, w83, w82, w19, w14, w15, w87, w84, w16, \n",
      "    topic 3 (level=1, total_words=6, documents=18): w12, w7, w28, w26, w25, w2, w45, w35, w27, w47, \n",
      "        topic 14 (level=2, total_words=1870, documents=18): w10, w27, w14, w19, w26, w16, w11, w15, w22, w28, \n",
      "    topic 5 (level=1, total_words=319, documents=36): w27, w22, w28, w26, w14, w29, w21, w25, w18, w11, \n",
      "        topic 15 (level=2, total_words=3805, documents=35): w10, w14, w19, w16, w15, w11, w1, w12, w3, w8, \n",
      "        topic 167 (level=2, total_words=78, documents=1): w48, w43, w47, w40, w45, w38, w37, w34, w30, w46, \n",
      "    topic 8 (level=1, total_words=5, documents=8): w63, w3, w31, w66, w99, w35, w27, w28, w29, w30, \n",
      "        topic 16 (level=2, total_words=670, documents=8): w37, w36, w64, w38, w67, w65, w66, w69, w30, w34, \n",
      "    topic 21 (level=1, total_words=10, documents=16): w3, w16, w25, w14, w96, w2, w29, w5, w28, w30, \n",
      "        topic 22 (level=2, total_words=1579, documents=15): w27, w26, w28, w22, w25, w24, w29, w21, w20, w23, \n",
      "        topic 168 (level=2, total_words=152, documents=1): w36, w37, w38, w30, w31, w34, w97, w95, w98, w35, \n",
      "..................................................\n",
      "topic 0 (level=0, total_words=14211, documents=100): w1, w6, w3, w7, w8, w4, w2, w9, w0, w5, \n",
      "    topic 1 (level=1, total_words=269, documents=23): w77, w71, w76, w37, w74, w72, w73, w30, w36, w33, \n",
      "        topic 2 (level=2, total_words=1680, documents=20): w37, w36, w38, w30, w34, w31, w33, w52, w56, w7, \n",
      "        topic 18 (level=2, total_words=234, documents=3): w88, w10, w83, w82, w19, w14, w15, w84, w87, w11, \n",
      "    topic 3 (level=1, total_words=4, documents=17): w26, w29, w7, w25, w36, w27, w28, w30, w31, w32, \n",
      "        topic 14 (level=2, total_words=1855, documents=17): w10, w27, w14, w19, w26, w16, w11, w15, w22, w28, \n",
      "    topic 5 (level=1, total_words=385, documents=35): w27, w22, w26, w28, w10, w15, w29, w2, w25, w21, \n",
      "        topic 15 (level=2, total_words=3866, documents=35): w10, w14, w19, w16, w15, w11, w1, w12, w6, w7, \n",
      "    topic 8 (level=1, total_words=4, documents=8): w47, w9, w63, w37, w44, w46, w27, w28, w29, w30, \n",
      "        topic 16 (level=2, total_words=682, documents=7): w37, w36, w64, w38, w67, w65, w66, w69, w30, w34, \n",
      "        topic 227 (level=2, total_words=74, documents=1): w48, w43, w38, w40, w47, w31, w45, w49, w30, w34, \n",
      "    topic 21 (level=1, total_words=15, documents=17): w1, w24, w26, w7, w17, w16, w15, w8, w14, w28, \n",
      "        topic 22 (level=2, total_words=1578, documents=16): w27, w26, w28, w22, w25, w24, w29, w21, w20, w23, \n",
      "        topic 228 (level=2, total_words=143, documents=1): w37, w36, w38, w30, w31, w34, w97, w95, w98, w94, \n",
      "..................................................\n",
      "topic 0 (level=0, total_words=14406, documents=100): w1, w6, w3, w7, w8, w2, w4, w9, w0, w5, \n",
      "    topic 1 (level=1, total_words=278, documents=24): w77, w71, w76, w1, w74, w72, w73, w36, w34, w33, \n",
      "        topic 2 (level=2, total_words=1738, documents=20): w37, w36, w38, w30, w34, w31, w33, w52, w56, w35, \n",
      "        topic 18 (level=2, total_words=239, documents=2): w88, w10, w82, w83, w19, w14, w87, w15, w84, w11, \n",
      "        topic 287 (level=2, total_words=77, documents=2): w48, w43, w47, w8, w40, w38, w45, w37, w34, w31, \n",
      "    topic 3 (level=1, total_words=8, documents=17): w20, w10, w27, w28, w4, w11, w37, w29, w30, w31, \n",
      "        topic 14 (level=2, total_words=1883, documents=17): w10, w27, w14, w19, w26, w16, w11, w15, w28, w22, \n",
      "    topic 5 (level=1, total_words=394, documents=37): w27, w26, w22, w19, w28, w2, w15, w1, w0, w29, \n",
      "        topic 15 (level=2, total_words=3546, documents=36): w10, w14, w19, w16, w15, w11, w12, w1, w13, w6, \n",
      "        topic 288 (level=2, total_words=143, documents=1): w37, w36, w30, w38, w31, w34, w97, w98, w95, w35, \n",
      "    topic 8 (level=1, total_words=4, documents=7): w36, w61, w68, w33, w27, w28, w29, w30, w31, w32, \n",
      "        topic 16 (level=2, total_words=668, documents=7): w37, w64, w36, w38, w67, w65, w66, w69, w30, w34, \n",
      "    topic 21 (level=1, total_words=17, documents=15): w15, w10, w2, w14, w0, w7, w28, w11, w19, w1, \n",
      "        topic 22 (level=2, total_words=1599, documents=15): w27, w26, w28, w22, w25, w24, w29, w21, w20, w23, \n",
      "..................................................\n",
      "topic 0 (level=0, total_words=14657, documents=100): w1, w6, w3, w7, w8, w4, w2, w9, w0, w5, \n",
      "    topic 1 (level=1, total_words=276, documents=23): w77, w71, w76, w74, w73, w0, w37, w36, w72, w7, \n",
      "        topic 2 (level=2, total_words=1716, documents=20): w37, w36, w38, w30, w34, w31, w33, w52, w1, w56, \n",
      "        topic 18 (level=2, total_words=241, documents=3): w88, w10, w83, w82, w19, w14, w15, w87, w84, w11, \n",
      "    topic 3 (level=1, total_words=19, documents=18): w14, w1, w29, w5, w10, w22, w15, w21, w16, w6, \n",
      "        topic 14 (level=2, total_words=1934, documents=18): w10, w27, w14, w19, w26, w16, w11, w15, w28, w22, \n",
      "    topic 5 (level=1, total_words=356, documents=36): w27, w22, w28, w26, w2, w15, w10, w25, w29, w16, \n",
      "        topic 15 (level=2, total_words=3380, documents=35): w10, w14, w19, w16, w15, w11, w12, w13, w18, w17, \n",
      "        topic 366 (level=2, total_words=150, documents=1): w36, w37, w38, w30, w31, w97, w34, w98, w95, w1, \n",
      "    topic 8 (level=1, total_words=11, documents=8): w31, w9, w47, w2, w8, w40, w63, w35, w36, w28, \n",
      "        topic 16 (level=2, total_words=649, documents=7): w37, w36, w64, w38, w67, w65, w66, w69, w30, w34, \n",
      "        topic 365 (level=2, total_words=69, documents=1): w48, w43, w47, w38, w45, w40, w37, w34, w30, w46, \n",
      "    topic 21 (level=1, total_words=5, documents=15): w0, w16, w20, w19, w12, w44, w43, w28, w29, w30, \n",
      "        topic 22 (level=2, total_words=1537, documents=15): w27, w26, w28, w22, w25, w24, w29, w21, w20, w23, \n",
      "..................................................\n",
      "topic 0 (level=0, total_words=14749, documents=100): w1, w6, w3, w7, w8, w2, w4, w9, w0, w5, \n",
      "    topic 1 (level=1, total_words=239, documents=23): w77, w71, w76, w74, w72, w73, w1, w33, w0, w7, \n",
      "        topic 2 (level=2, total_words=1662, documents=20): w37, w36, w38, w30, w34, w31, w33, w52, w7, w56, \n",
      "        topic 18 (level=2, total_words=244, documents=3): w88, w10, w83, w82, w19, w14, w87, w84, w15, w11, \n",
      "    topic 3 (level=1, total_words=7, documents=21): w0, w15, w27, w5, w36, w28, w29, w30, w31, w32, \n",
      "        topic 14 (level=2, total_words=1902, documents=19): w10, w27, w14, w19, w26, w16, w11, w15, w22, w28, \n",
      "        topic 426 (level=2, total_words=223, documents=2): w37, w36, w38, w31, w30, w34, w48, w97, w35, w98, \n",
      "    topic 5 (level=1, total_words=290, documents=34): w27, w22, w28, w26, w21, w29, w25, w24, w16, w1, \n",
      "        topic 15 (level=2, total_words=3412, documents=34): w10, w14, w19, w16, w15, w11, w12, w13, w18, w17, \n",
      "    topic 8 (level=1, total_words=0, documents=7): w99, w36, w26, w27, w28, w29, w30, w31, w32, w33, \n",
      "        topic 16 (level=2, total_words=664, documents=7): w37, w36, w64, w38, w65, w67, w66, w69, w30, w34, \n",
      "    topic 21 (level=1, total_words=10, documents=15): w25, w24, w15, w28, w20, w18, w16, w26, w41, w40, \n",
      "        topic 22 (level=2, total_words=1598, documents=15): w27, w26, w28, w22, w25, w24, w29, w21, w20, w23, \n",
      "..................................................\n",
      "topic 0 (level=0, total_words=14506, documents=100): w1, w6, w3, w7, w8, w4, w2, w9, w0, w5, \n",
      "    topic 1 (level=1, total_words=79, documents=22): w77, w71, w76, w9, w72, w73, w1, w36, w34, w6, \n",
      "        topic 2 (level=2, total_words=1655, documents=19): w37, w36, w38, w30, w34, w31, w33, w52, w56, w35, \n",
      "        topic 18 (level=2, total_words=240, documents=3): w88, w10, w83, w82, w19, w14, w15, w87, w84, w2, \n",
      "    topic 3 (level=1, total_words=197, documents=19): w77, w76, w71, w74, w72, w37, w36, w73, w0, w30, \n",
      "        topic 14 (level=2, total_words=1901, documents=17): w10, w27, w14, w19, w26, w16, w11, w15, w22, w28, \n",
      "        topic 476 (level=2, total_words=78, documents=2): w48, w43, w47, w40, w38, w45, w37, w34, w31, w30, \n",
      "    topic 5 (level=1, total_words=340, documents=35): w27, w22, w28, w26, w25, w2, w10, w29, w3, w0, \n",
      "        topic 15 (level=2, total_words=3460, documents=35): w10, w14, w19, w16, w15, w11, w12, w13, w17, w18, \n",
      "    topic 8 (level=1, total_words=5, documents=8): w3, w5, w32, w63, w62, w99, w36, w28, w29, w30, \n",
      "        topic 16 (level=2, total_words=686, documents=7): w37, w36, w64, w38, w65, w67, w66, w69, w30, w34, \n",
      "        topic 474 (level=2, total_words=143, documents=1): w37, w36, w38, w30, w31, w97, w34, w95, w98, w94, \n",
      "    topic 21 (level=1, total_words=8, documents=16): w9, w25, w5, w19, w11, w14, w99, w37, w29, w30, \n",
      "        topic 22 (level=2, total_words=1702, documents=16): w27, w26, w28, w22, w25, w24, w29, w21, w20, w23, \n",
      "..................................................\n",
      "topic 0 (level=0, total_words=14596, documents=100): w1, w6, w3, w7, w8, w4, w2, w9, w0, w5, \n",
      "    topic 1 (level=1, total_words=301, documents=23): w77, w71, w76, w1, w37, w74, w72, w73, w36, w30, \n",
      "        topic 2 (level=2, total_words=1675, documents=20): w37, w36, w38, w30, w34, w31, w33, w6, w52, w56, \n",
      "        topic 18 (level=2, total_words=240, documents=3): w88, w10, w83, w82, w19, w14, w87, w15, w84, w11, \n",
      "    topic 3 (level=1, total_words=7, documents=17): w19, w8, w28, w10, w11, w99, w37, w29, w30, w31, \n",
      "        topic 14 (level=2, total_words=1886, documents=17): w10, w27, w14, w19, w26, w16, w11, w15, w28, w22, \n",
      "    topic 5 (level=1, total_words=336, documents=36): w27, w22, w26, w28, w14, w29, w21, w25, w0, w15, \n",
      "        topic 15 (level=2, total_words=3433, documents=36): w10, w14, w19, w16, w15, w11, w12, w13, w17, w1, \n",
      "    topic 8 (level=1, total_words=9, documents=9): w32, w1, w96, w65, w40, w33, w99, w35, w27, w28, \n",
      "        topic 16 (level=2, total_words=663, documents=7): w37, w36, w64, w38, w67, w65, w66, w69, w30, w34, \n",
      "        topic 542 (level=2, total_words=66, documents=1): w48, w43, w47, w38, w45, w40, w37, w34, w31, w30, \n",
      "        topic 543 (level=2, total_words=132, documents=1): w36, w37, w38, w30, w31, w34, w97, w95, w98, w94, \n",
      "    topic 21 (level=1, total_words=6, documents=15): w3, w5, w6, w9, w19, w18, w99, w37, w29, w30, \n",
      "        topic 22 (level=2, total_words=1650, documents=15): w27, w26, w28, w22, w25, w24, w29, w21, w20, w23, \n",
      "..................................................\n",
      "topic 0 (level=0, total_words=14375, documents=100): w1, w6, w3, w7, w8, w2, w4, w9, w0, w5, \n",
      "    topic 1 (level=1, total_words=304, documents=22): w77, w71, w76, w1, w74, w72, w37, w36, w73, w3, \n",
      "        topic 2 (level=2, total_words=1736, documents=20): w37, w36, w38, w30, w34, w31, w33, w7, w52, w56, \n",
      "        topic 18 (level=2, total_words=250, documents=2): w88, w10, w82, w83, w19, w14, w15, w87, w84, w3, \n",
      "    topic 3 (level=1, total_words=12, documents=17): w17, w6, w0, w9, w30, w27, w23, w13, w11, w24, \n",
      "        topic 14 (level=2, total_words=1824, documents=16): w10, w27, w14, w19, w26, w16, w11, w15, w22, w28, \n",
      "        topic 592 (level=2, total_words=73, documents=1): w48, w43, w47, w40, w38, w31, w45, w37, w34, w46, \n",
      "    topic 5 (level=1, total_words=370, documents=36): w27, w22, w28, w26, w10, w21, w11, w25, w29, w3, \n",
      "        topic 15 (level=2, total_words=3691, documents=36): w10, w14, w19, w16, w15, w11, w1, w12, w13, w6, \n",
      "    topic 8 (level=1, total_words=1, documents=8): w38, w99, w36, w26, w27, w28, w29, w30, w31, w32, \n",
      "        topic 16 (level=2, total_words=657, documents=7): w37, w36, w64, w38, w67, w65, w66, w69, w30, w34, \n",
      "        topic 594 (level=2, total_words=146, documents=1): w36, w37, w30, w38, w31, w34, w97, w98, w95, w94, \n",
      "    topic 21 (level=1, total_words=9, documents=17): w25, w26, w21, w8, w9, w12, w28, w14, w36, w29, \n",
      "        topic 22 (level=2, total_words=1551, documents=16): w27, w26, w28, w22, w25, w24, w29, w21, w20, w23, \n",
      "        topic 593 (level=2, total_words=1, documents=1): w83, w99, w35, w26, w27, w28, w29, w30, w31, w32, \n",
      "..................................................\n",
      "topic 0 (level=0, total_words=14299, documents=100): w1, w6, w3, w7, w8, w4, w2, w9, w0, w5, \n",
      "    topic 1 (level=1, total_words=262, documents=23): w77, w71, w76, w74, w73, w72, w1, w6, w37, w36, \n",
      "        topic 2 (level=2, total_words=1805, documents=20): w37, w36, w38, w30, w34, w1, w31, w33, w52, w56, \n",
      "        topic 18 (level=2, total_words=240, documents=3): w88, w10, w83, w82, w19, w14, w15, w87, w84, w16, \n",
      "    topic 3 (level=1, total_words=14, documents=18): w27, w91, w14, w28, w10, w9, w33, w16, w17, w25, \n",
      "        topic 14 (level=2, total_words=1879, documents=17): w10, w27, w14, w19, w26, w16, w11, w15, w28, w22, \n",
      "        topic 648 (level=2, total_words=141, documents=1): w37, w36, w38, w30, w31, w97, w34, w95, w98, w35, \n",
      "    topic 5 (level=1, total_words=372, documents=37): w27, w22, w28, w26, w16, w14, w21, w15, w25, w29, \n",
      "        topic 15 (level=2, total_words=3648, documents=37): w10, w14, w19, w16, w15, w11, w1, w12, w13, w8, \n",
      "    topic 8 (level=1, total_words=2, documents=7): w34, w99, w36, w26, w27, w28, w29, w30, w31, w32, \n",
      "        topic 16 (level=2, total_words=671, documents=7): w37, w64, w36, w38, w67, w65, w66, w69, w30, w34, \n",
      "    topic 21 (level=1, total_words=14, documents=15): w12, w24, w6, w26, w22, w20, w18, w28, w27, w4, \n",
      "        topic 22 (level=2, total_words=1582, documents=14): w27, w26, w28, w22, w25, w24, w29, w21, w20, w23, \n",
      "        topic 647 (level=2, total_words=71, documents=1): w48, w43, w47, w40, w38, w45, w37, w34, w31, w30, \n",
      "..................................................\n",
      "topic 0 (level=0, total_words=14459, documents=100): w1, w6, w3, w7, w8, w4, w2, w9, w0, w5, \n",
      "    topic 1 (level=1, total_words=255, documents=21): w77, w71, w76, w74, w72, w73, w36, w34, w30, w0, \n",
      "        topic 2 (level=2, total_words=1696, documents=19): w37, w36, w38, w30, w34, w31, w33, w52, w7, w56, \n",
      "        topic 18 (level=2, total_words=246, documents=2): w88, w10, w83, w82, w19, w14, w87, w15, w84, w11, \n",
      "    topic 3 (level=1, total_words=23, documents=17): w26, w16, w15, w0, w29, w10, w27, w22, w21, w20, \n",
      "        topic 14 (level=2, total_words=1890, documents=17): w10, w27, w14, w19, w26, w16, w11, w28, w15, w22, \n",
      "    topic 5 (level=1, total_words=357, documents=39): w27, w22, w26, w28, w3, w16, w15, w25, w29, w21, \n",
      "        topic 15 (level=2, total_words=3553, documents=36): w10, w14, w19, w16, w15, w11, w12, w6, w1, w13, \n",
      "        topic 693 (level=2, total_words=250, documents=3): w37, w36, w38, w30, w34, w31, w48, w33, w97, w98, \n",
      "    topic 8 (level=1, total_words=7, documents=8): w83, w3, w37, w89, w7, w1, w28, w29, w30, w36, \n",
      "        topic 16 (level=2, total_words=682, documents=8): w37, w36, w64, w38, w65, w67, w66, w69, w30, w34, \n",
      "    topic 21 (level=1, total_words=9, documents=15): w21, w0, w1, w25, w5, w22, w16, w36, w29, w30, \n",
      "        topic 22 (level=2, total_words=1573, documents=15): w27, w26, w28, w22, w25, w24, w29, w21, w20, w23, \n",
      "..................................................\n",
      "topic 0 (level=0, total_words=14365, documents=100): w1, w6, w3, w7, w8, w2, w4, w9, w0, w5, \n",
      "    topic 1 (level=1, total_words=302, documents=23): w77, w71, w76, w1, w36, w74, w72, w73, w37, w33, \n",
      "        topic 2 (level=2, total_words=1723, documents=20): w37, w36, w38, w30, w34, w31, w33, w1, w52, w56, \n",
      "        topic 18 (level=2, total_words=319, documents=3): w88, w10, w83, w14, w82, w19, w15, w16, w11, w87, \n",
      "    topic 3 (level=1, total_words=8, documents=18): w6, w44, w21, w7, w34, w15, w99, w36, w28, w29, \n",
      "        topic 14 (level=2, total_words=1793, documents=15): w10, w27, w14, w19, w26, w16, w11, w15, w22, w25, \n",
      "        topic 746 (level=2, total_words=257, documents=3): w37, w36, w38, w30, w31, w34, w48, w97, w33, w35, \n",
      "    topic 5 (level=1, total_words=368, documents=36): w27, w22, w14, w26, w28, w10, w21, w29, w3, w1, \n",
      "        topic 15 (level=2, total_words=3536, documents=36): w10, w14, w19, w16, w15, w11, w12, w1, w13, w18, \n",
      "    topic 8 (level=1, total_words=13, documents=7): w35, w3, w33, w37, w1, w8, w65, w38, w63, w60, \n",
      "        topic 16 (level=2, total_words=660, documents=7): w37, w36, w64, w38, w67, w65, w69, w66, w30, w34, \n",
      "    topic 21 (level=1, total_words=1, documents=16): w25, w36, w26, w27, w28, w29, w30, w31, w32, w33, \n",
      "        topic 22 (level=2, total_words=1655, documents=16): w27, w26, w28, w22, w25, w24, w29, w21, w20, w23, \n",
      "..................................................\n",
      "topic 0 (level=0, total_words=14297, documents=100): w1, w6, w3, w7, w8, w2, w4, w9, w0, w5, \n",
      "    topic 1 (level=1, total_words=273, documents=22): w77, w71, w76, w74, w72, w73, w36, w33, w37, w30, \n",
      "        topic 2 (level=2, total_words=1721, documents=19): w37, w36, w38, w30, w34, w31, w33, w52, w6, w56, \n",
      "        topic 18 (level=2, total_words=255, documents=3): w88, w10, w83, w82, w19, w14, w15, w87, w84, w16, \n",
      "    topic 3 (level=1, total_words=14, documents=16): w20, w29, w8, w23, w19, w18, w16, w9, w0, w4, \n",
      "        topic 14 (level=2, total_words=1860, documents=16): w10, w27, w14, w19, w26, w16, w11, w15, w28, w22, \n",
      "    topic 5 (level=1, total_words=415, documents=39): w27, w22, w28, w26, w16, w15, w0, w19, w25, w3, \n",
      "        topic 15 (level=2, total_words=3678, documents=37): w10, w14, w19, w16, w15, w11, w1, w12, w6, w13, \n",
      "        topic 814 (level=2, total_words=77, documents=1): w48, w43, w47, w40, w38, w45, w9, w34, w31, w30, \n",
      "        topic 815 (level=2, total_words=143, documents=1): w37, w36, w38, w30, w31, w34, w97, w95, w98, w94, \n",
      "    topic 8 (level=1, total_words=7, documents=8): w38, w4, w5, w31, w34, w37, w27, w28, w29, w30, \n",
      "        topic 16 (level=2, total_words=674, documents=8): w37, w36, w64, w38, w67, w65, w66, w69, w30, w34, \n",
      "    topic 21 (level=1, total_words=8, documents=15): w18, w24, w3, w7, w20, w9, w14, w37, w29, w30, \n",
      "        topic 22 (level=2, total_words=1578, documents=15): w27, w26, w28, w22, w25, w24, w29, w21, w20, w23, \n",
      "..................................................\n",
      "topic 0 (level=0, total_words=14492, documents=100): w1, w6, w3, w7, w8, w4, w2, w9, w0, w5, \n",
      "    topic 1 (level=1, total_words=114, documents=21): w77, w71, w37, w3, w76, w36, w31, w72, w1, w73, \n",
      "        topic 2 (level=2, total_words=1642, documents=18): w37, w36, w38, w30, w34, w31, w33, w52, w56, w35, \n",
      "        topic 18 (level=2, total_words=242, documents=3): w88, w10, w83, w82, w19, w14, w15, w87, w84, w11, \n",
      "    topic 3 (level=1, total_words=13, documents=17): w13, w14, w19, w27, w3, w5, w23, w2, w16, w37, \n",
      "        topic 14 (level=2, total_words=1849, documents=17): w10, w27, w14, w19, w26, w16, w11, w15, w28, w22, \n",
      "    topic 5 (level=1, total_words=361, documents=36): w27, w22, w28, w26, w1, w10, w2, w25, w21, w11, \n",
      "        topic 15 (level=2, total_words=3637, documents=36): w10, w14, w19, w16, w15, w11, w12, w1, w6, w13, \n",
      "    topic 8 (level=1, total_words=3, documents=9): w32, w99, w36, w26, w27, w28, w29, w30, w31, w33, \n",
      "        topic 16 (level=2, total_words=653, documents=7): w37, w36, w64, w38, w65, w67, w66, w69, w30, w34, \n",
      "        topic 882 (level=2, total_words=166, documents=2): w37, w36, w38, w30, w31, w34, w97, w33, w98, w95, \n",
      "    topic 21 (level=1, total_words=200, documents=17): w77, w76, w71, w74, w72, w1, w37, w36, w73, w30, \n",
      "        topic 22 (level=2, total_words=1544, documents=15): w27, w26, w28, w22, w25, w24, w29, w21, w20, w23, \n",
      "        topic 880 (level=2, total_words=84, documents=2): w48, w43, w47, w38, w40, w2, w45, w37, w34, w31, \n",
      "..................................................\n",
      "topic 0 (level=0, total_words=14270, documents=100): w1, w6, w3, w7, w8, w2, w4, w9, w0, w5, \n",
      "    topic 1 (level=1, total_words=264, documents=23): w77, w71, w76, w37, w74, w73, w72, w36, w0, w30, \n",
      "        topic 2 (level=2, total_words=1868, documents=20): w37, w36, w38, w30, w34, w1, w31, w33, w52, w7, \n",
      "        topic 18 (level=2, total_words=243, documents=2): w88, w10, w82, w83, w14, w19, w15, w87, w84, w16, \n",
      "        topic 936 (level=2, total_words=82, documents=1): w48, w43, w47, w3, w40, w38, w45, w37, w34, w31, \n",
      "    topic 3 (level=1, total_words=3, documents=15): w0, w5, w8, w37, w27, w28, w29, w30, w31, w32, \n",
      "        topic 14 (level=2, total_words=1850, documents=15): w10, w27, w14, w19, w26, w16, w11, w15, w22, w25, \n",
      "    topic 5 (level=1, total_words=411, documents=39): w27, w15, w22, w28, w26, w11, w16, w0, w25, w29, \n",
      "        topic 15 (level=2, total_words=3628, documents=38): w10, w14, w19, w16, w15, w11, w12, w1, w6, w13, \n",
      "        topic 937 (level=2, total_words=140, documents=1): w36, w37, w30, w38, w31, w97, w34, w95, w98, w35, \n",
      "    topic 8 (level=1, total_words=4, documents=7): w67, w39, w9, w63, w99, w35, w27, w28, w29, w30, \n",
      "        topic 16 (level=2, total_words=650, documents=7): w37, w36, w64, w38, w65, w67, w66, w69, w30, w31, \n",
      "    topic 21 (level=1, total_words=8, documents=16): w0, w23, w4, w5, w21, w11, w14, w37, w29, w30, \n",
      "        topic 22 (level=2, total_words=1579, documents=16): w27, w26, w28, w22, w25, w24, w29, w21, w20, w23, \n",
      "..................................................\n",
      "topic 0 (level=0, total_words=14485, documents=100): w1, w6, w3, w7, w8, w2, w4, w9, w0, w5, \n",
      "    topic 1 (level=1, total_words=85, documents=23): w77, w71, w76, w6, w72, w3, w73, w4, w40, w74, \n",
      "        topic 2 (level=2, total_words=1705, documents=19): w37, w36, w38, w30, w34, w31, w33, w52, w7, w56, \n",
      "        topic 18 (level=2, total_words=242, documents=3): w88, w10, w83, w82, w19, w14, w15, w87, w84, w11, \n",
      "        topic 1012 (level=2, total_words=72, documents=1): w48, w43, w47, w38, w45, w40, w37, w34, w31, w30, \n",
      "    topic 3 (level=1, total_words=11, documents=17): w26, w7, w29, w15, w25, w23, w10, w12, w16, w30, \n",
      "        topic 14 (level=2, total_words=1822, documents=17): w10, w27, w14, w19, w26, w16, w11, w15, w28, w22, \n",
      "    topic 5 (level=1, total_words=287, documents=36): w27, w22, w28, w26, w25, w29, w24, w21, w0, w2, \n",
      "        topic 15 (level=2, total_words=3663, documents=36): w10, w14, w19, w16, w15, w11, w12, w1, w6, w13, \n",
      "    topic 8 (level=1, total_words=1, documents=7): w2, w99, w37, w27, w28, w29, w30, w31, w32, w33, \n",
      "        topic 16 (level=2, total_words=662, documents=7): w37, w36, w64, w38, w67, w65, w66, w69, w30, w34, \n",
      "    topic 21 (level=1, total_words=201, documents=17): w77, w76, w71, w74, w73, w72, w36, w37, w7, w6, \n",
      "        topic 22 (level=2, total_words=1625, documents=16): w27, w26, w28, w22, w25, w24, w29, w21, w20, w23, \n",
      "        topic 1013 (level=2, total_words=139, documents=1): w37, w36, w38, w30, w31, w34, w97, w95, w98, w94, \n",
      "..................................................\n",
      "topic 0 (level=0, total_words=14394, documents=100): w1, w6, w3, w7, w8, w4, w2, w9, w0, w5, \n",
      "    topic 1 (level=1, total_words=237, documents=21): w77, w71, w76, w74, w72, w73, w36, w37, w30, w34, \n",
      "        topic 2 (level=2, total_words=1636, documents=19): w37, w36, w38, w30, w34, w31, w33, w7, w52, w56, \n",
      "        topic 18 (level=2, total_words=253, documents=2): w88, w10, w83, w82, w19, w14, w15, w87, w84, w4, \n",
      "    topic 3 (level=1, total_words=3, documents=18): w28, w3, w4, w99, w37, w27, w29, w30, w31, w32, \n",
      "        topic 14 (level=2, total_words=1857, documents=17): w10, w27, w14, w19, w26, w16, w11, w15, w22, w28, \n",
      "        topic 1072 (level=2, total_words=142, documents=1): w36, w37, w30, w38, w31, w34, w97, w95, w98, w94, \n",
      "    topic 5 (level=1, total_words=394, documents=38): w27, w22, w26, w28, w19, w3, w25, w29, w21, w14, \n",
      "        topic 15 (level=2, total_words=3641, documents=37): w10, w14, w19, w16, w15, w11, w1, w12, w6, w13, \n",
      "        topic 1071 (level=2, total_words=82, documents=1): w48, w3, w43, w47, w38, w40, w4, w31, w45, w37, \n",
      "    topic 8 (level=1, total_words=6, documents=8): w3, w4, w65, w33, w35, w61, w99, w36, w28, w29, \n",
      "        topic 16 (level=2, total_words=687, documents=8): w37, w36, w64, w38, w67, w65, w66, w69, w30, w34, \n",
      "    topic 21 (level=1, total_words=10, documents=15): w25, w12, w21, w20, w10, w11, w14, w99, w37, w30, \n",
      "        topic 22 (level=2, total_words=1658, documents=15): w27, w26, w28, w22, w25, w24, w29, w21, w23, w20, \n",
      "..................................................\n",
      "topic 0 (level=0, total_words=14378, documents=100): w1, w6, w3, w7, w8, w4, w2, w9, w0, w5, \n",
      "    topic 1 (level=1, total_words=268, documents=23): w77, w71, w76, w74, w36, w72, w73, w37, w3, w0, \n",
      "        topic 2 (level=2, total_words=1838, documents=20): w37, w36, w38, w30, w34, w31, w33, w6, w7, w52, \n",
      "        topic 18 (level=2, total_words=263, documents=2): w88, w10, w83, w82, w19, w14, w6, w15, w87, w4, \n",
      "        topic 1130 (level=2, total_words=143, documents=1): w37, w36, w30, w38, w31, w97, w34, w95, w98, w94, \n",
      "    topic 3 (level=1, total_words=4, documents=17): w25, w27, w7, w99, w36, w28, w29, w30, w31, w32, \n",
      "        topic 14 (level=2, total_words=1840, documents=17): w10, w27, w14, w19, w26, w16, w11, w15, w28, w22, \n",
      "    topic 5 (level=1, total_words=503, documents=38): w27, w10, w15, w22, w26, w28, w14, w19, w16, w1, \n",
      "        topic 15 (level=2, total_words=3446, documents=36): w10, w14, w19, w16, w11, w15, w12, w1, w6, w13, \n",
      "        topic 1128 (level=2, total_words=84, documents=2): w48, w43, w47, w40, w38, w37, w45, w31, w34, w46, \n",
      "    topic 8 (level=1, total_words=0, documents=7): w99, w36, w26, w27, w28, w29, w30, w31, w32, w33, \n",
      "        topic 16 (level=2, total_words=670, documents=7): w37, w36, w64, w38, w65, w67, w66, w69, w30, w34, \n",
      "    topic 21 (level=1, total_words=10, documents=15): w2, w16, w25, w20, w9, w19, w18, w12, w99, w36, \n",
      "        topic 22 (level=2, total_words=1553, documents=15): w27, w26, w28, w22, w25, w24, w29, w21, w20, w23, \n",
      "..................................................\n",
      "topic 0 (level=0, total_words=14208, documents=100): w1, w6, w3, w7, w8, w2, w4, w9, w0, w5, \n",
      "    topic 1 (level=1, total_words=253, documents=24): w77, w71, w76, w74, w72, w73, w0, w36, w1, w37, \n",
      "        topic 2 (level=2, total_words=1744, documents=20): w37, w36, w38, w30, w34, w31, w33, w52, w1, w56, \n",
      "        topic 18 (level=2, total_words=242, documents=3): w88, w10, w83, w82, w19, w14, w15, w87, w84, w16, \n",
      "        topic 1197 (level=2, total_words=142, documents=1): w36, w37, w30, w38, w31, w97, w34, w98, w95, w94, \n",
      "    topic 3 (level=1, total_words=4, documents=18): w23, w3, w20, w26, w99, w36, w28, w29, w30, w31, \n",
      "        topic 14 (level=2, total_words=1938, documents=18): w10, w27, w14, w19, w26, w16, w11, w15, w22, w25, \n",
      "    topic 5 (level=1, total_words=512, documents=36): w27, w16, w11, w22, w26, w28, w1, w14, w6, w3, \n",
      "        topic 15 (level=2, total_words=3559, documents=36): w10, w14, w19, w16, w15, w11, w1, w12, w13, w17, \n",
      "    topic 8 (level=1, total_words=4, documents=7): w61, w69, w6, w65, w99, w27, w28, w29, w30, w31, \n",
      "        topic 16 (level=2, total_words=687, documents=7): w37, w36, w64, w38, w67, w65, w66, w69, w30, w34, \n",
      "    topic 21 (level=1, total_words=14, documents=15): w12, w3, w10, w8, w48, w7, w20, w29, w6, w5, \n",
      "        topic 22 (level=2, total_words=1605, documents=14): w27, w26, w28, w22, w25, w24, w29, w21, w20, w23, \n",
      "        topic 1196 (level=2, total_words=88, documents=1): w48, w43, w47, w0, w38, w40, w2, w7, w31, w34, \n"
     ]
    }
   ],
   "source": [
    "n_samples = 1000\n",
    "hlda = HierarchicalLDA(new_corpus, vocab, alpha=1, gamma=1.0, eta=1.0, num_levels=3)\n",
    "hlda.estimate(n_samples, display_topics=50, n_words=10, with_weights=False)"
   ]
  },
  {
   "cell_type": "code",
   "execution_count": 178,
   "metadata": {
    "collapsed": false
   },
   "outputs": [
    {
     "name": "stdout",
     "output_type": "stream",
     "text": [
      "HierarchicalLDA sampling\n",
      "..................................................\n",
      "topic 0 (level=0, total_words=14389, documents=100): w1, w6, w3, w7, w8, w4, w2, w9, w0, w5, \n",
      "    topic 1 (level=1, total_words=4473, documents=86): w10, w14, w19, w16, w15, w11, w12, w1, w17, w13, \n",
      "        topic 2 (level=2, total_words=2588, documents=53): w27, w26, w28, w22, w25, w24, w29, w21, w23, w20, \n",
      "        topic 6 (level=2, total_words=61, documents=4): w91, w71, w61, w81, w0, w10, w1, w31, w4, w11, \n",
      "        topic 7 (level=2, total_words=198, documents=6): w88, w83, w82, w84, w87, w81, w6, w7, w86, w89, \n",
      "        topic 9 (level=2, total_words=1703, documents=18): w37, w36, w38, w30, w34, w31, w33, w52, w56, w1, \n",
      "        topic 26 (level=2, total_words=4, documents=1): w6, w23, w7, w99, w37, w28, w29, w30, w31, w32, \n",
      "        topic 30 (level=2, total_words=84, documents=2): w48, w43, w47, w38, w3, w40, w45, w31, w34, w37, \n",
      "        topic 32 (level=2, total_words=181, documents=2): w37, w36, w38, w30, w97, w34, w31, w98, w33, w6, \n",
      "    topic 3 (level=1, total_words=344, documents=14): w10, w14, w19, w16, w15, w11, w12, w8, w13, w0, \n",
      "        topic 4 (level=2, total_words=680, documents=10): w37, w36, w64, w38, w67, w65, w66, w69, w30, w34, \n",
      "        topic 8 (level=2, total_words=293, documents=3): w77, w76, w71, w37, w36, w74, w72, w73, w30, w1, \n",
      "        topic 31 (level=2, total_words=2, documents=1): w89, w83, w99, w35, w26, w27, w28, w29, w30, w31, \n",
      "..................................................\n",
      "topic 0 (level=0, total_words=14382, documents=100): w1, w6, w3, w7, w8, w2, w4, w9, w0, w5, \n",
      "    topic 1 (level=1, total_words=4320, documents=84): w10, w14, w19, w16, w15, w11, w12, w1, w6, w13, \n",
      "        topic 2 (level=2, total_words=2550, documents=53): w27, w26, w28, w22, w25, w24, w29, w21, w20, w23, \n",
      "        topic 6 (level=2, total_words=58, documents=3): w91, w71, w61, w14, w1, w81, w7, w4, w51, w31, \n",
      "        topic 7 (level=2, total_words=228, documents=8): w88, w83, w82, w7, w87, w84, w89, w1, w15, w86, \n",
      "        topic 9 (level=2, total_words=1665, documents=19): w37, w36, w38, w30, w34, w31, w33, w52, w1, w56, \n",
      "        topic 88 (level=2, total_words=77, documents=1): w48, w43, w47, w40, w38, w45, w37, w34, w31, w30, \n",
      "    topic 3 (level=1, total_words=596, documents=16): w10, w14, w19, w16, w15, w11, w12, w1, w6, w13, \n",
      "        topic 4 (level=2, total_words=676, documents=9): w37, w64, w36, w38, w65, w67, w66, w69, w30, w34, \n",
      "        topic 8 (level=2, total_words=275, documents=4): w77, w76, w71, w37, w36, w74, w72, w73, w30, w34, \n",
      "        topic 83 (level=2, total_words=173, documents=3): w37, w36, w38, w30, w34, w97, w31, w98, w33, w95, \n",
      "..................................................\n",
      "topic 0 (level=0, total_words=14575, documents=100): w1, w6, w3, w7, w8, w2, w4, w9, w0, w5, \n",
      "    topic 1 (level=1, total_words=4258, documents=85): w10, w14, w19, w16, w15, w11, w12, w1, w8, w13, \n",
      "        topic 2 (level=2, total_words=2550, documents=52): w27, w26, w28, w22, w25, w24, w29, w21, w23, w20, \n",
      "        topic 6 (level=2, total_words=66, documents=4): w91, w61, w71, w11, w1, w81, w31, w4, w6, w10, \n",
      "        topic 7 (level=2, total_words=209, documents=8): w88, w83, w82, w87, w84, w2, w3, w86, w81, w89, \n",
      "        topic 9 (level=2, total_words=1556, documents=17): w37, w36, w38, w30, w34, w31, w33, w52, w56, w35, \n",
      "        topic 128 (level=2, total_words=174, documents=4): w37, w36, w38, w30, w1, w97, w34, w31, w98, w33, \n",
      "    topic 3 (level=1, total_words=585, documents=15): w10, w14, w19, w16, w15, w11, w12, w6, w8, w17, \n",
      "        topic 4 (level=2, total_words=667, documents=10): w37, w36, w64, w38, w67, w65, w66, w69, w30, w34, \n",
      "        topic 8 (level=2, total_words=286, documents=4): w77, w76, w71, w37, w36, w74, w72, w73, w6, w30, \n",
      "        topic 132 (level=2, total_words=74, documents=1): w48, w43, w47, w40, w38, w45, w37, w34, w31, w30, \n",
      "..................................................\n",
      "topic 0 (level=0, total_words=14693, documents=100): w1, w6, w3, w7, w8, w4, w2, w9, w0, w5, \n",
      "    topic 1 (level=1, total_words=4388, documents=85): w10, w14, w19, w16, w15, w11, w12, w1, w13, w18, \n",
      "        topic 2 (level=2, total_words=2449, documents=51): w27, w26, w28, w22, w25, w24, w29, w21, w23, w20, \n",
      "        topic 6 (level=2, total_words=51, documents=2): w91, w71, w61, w81, w31, w51, w6, w3, w10, w11, \n",
      "        topic 7 (level=2, total_words=236, documents=10): w88, w83, w82, w87, w84, w19, w4, w11, w89, w86, \n",
      "        topic 9 (level=2, total_words=1616, documents=17): w37, w36, w38, w30, w34, w31, w33, w52, w7, w56, \n",
      "        topic 160 (level=2, total_words=183, documents=3): w37, w36, w38, w30, w34, w31, w97, w33, w98, w9, \n",
      "        topic 171 (level=2, total_words=1, documents=2): w15, w99, w36, w27, w28, w29, w30, w31, w32, w33, \n",
      "    topic 3 (level=1, total_words=341, documents=15): w10, w14, w16, w19, w11, w15, w12, w17, w13, w2, \n",
      "        topic 4 (level=2, total_words=685, documents=8): w37, w36, w64, w38, w65, w67, w66, w69, w30, w34, \n",
      "        topic 8 (level=2, total_words=282, documents=3): w77, w76, w71, w37, w36, w74, w72, w73, w1, w30, \n",
      "        topic 169 (level=2, total_words=1, documents=2): w22, w99, w36, w27, w28, w29, w30, w31, w32, w33, \n",
      "        topic 172 (level=2, total_words=74, documents=2): w48, w43, w47, w40, w38, w45, w37, w34, w31, w30, \n",
      "..................................................\n",
      "topic 0 (level=0, total_words=14408, documents=100): w1, w6, w3, w7, w8, w4, w2, w9, w0, w5, \n",
      "    topic 1 (level=1, total_words=4535, documents=83): w10, w14, w19, w16, w15, w11, w12, w1, w6, w18, \n",
      "        topic 2 (level=2, total_words=2550, documents=50): w27, w26, w28, w22, w25, w24, w29, w21, w23, w20, \n",
      "        topic 6 (level=2, total_words=54, documents=3): w91, w71, w81, w61, w14, w12, w17, w3, w51, w31, \n",
      "        topic 7 (level=2, total_words=222, documents=8): w88, w83, w82, w87, w84, w19, w6, w86, w81, w89, \n",
      "        topic 9 (level=2, total_words=1610, documents=20): w37, w36, w38, w30, w34, w31, w33, w52, w56, w35, \n",
      "        topic 213 (level=2, total_words=171, documents=2): w37, w36, w38, w30, w97, w34, w33, w98, w31, w95, \n",
      "    topic 3 (level=1, total_words=420, documents=17): w10, w14, w16, w19, w15, w11, w1, w12, w3, w6, \n",
      "        topic 4 (level=2, total_words=685, documents=8): w37, w64, w36, w38, w67, w65, w66, w69, w30, w34, \n",
      "        topic 8 (level=2, total_words=270, documents=4): w77, w76, w71, w37, w36, w74, w72, w73, w30, w31, \n",
      "        topic 217 (level=2, total_words=75, documents=5): w48, w43, w47, w40, w38, w45, w37, w34, w31, w30, \n",
      "..................................................\n",
      "topic 0 (level=0, total_words=14448, documents=100): w1, w6, w3, w7, w8, w4, w2, w9, w0, w5, \n",
      "    topic 1 (level=1, total_words=4768, documents=84): w10, w14, w19, w16, w15, w11, w12, w1, w8, w6, \n",
      "        topic 2 (level=2, total_words=2509, documents=52): w27, w26, w28, w22, w25, w24, w29, w21, w23, w20, \n",
      "        topic 6 (level=2, total_words=53, documents=4): w91, w71, w61, w14, w81, w31, w18, w2, w4, w51, \n",
      "        topic 7 (level=2, total_words=197, documents=8): w88, w83, w82, w87, w84, w86, w89, w81, w6, w17, \n",
      "        topic 9 (level=2, total_words=1603, documents=19): w37, w36, w38, w30, w34, w31, w33, w52, w56, w35, \n",
      "        topic 255 (level=2, total_words=0, documents=1): w99, w36, w26, w27, w28, w29, w30, w31, w32, w33, \n",
      "    topic 3 (level=1, total_words=252, documents=16): w10, w14, w19, w16, w15, w11, w17, w12, w7, w13, \n",
      "        topic 4 (level=2, total_words=660, documents=8): w37, w36, w64, w38, w67, w65, w66, w69, w30, w34, \n",
      "        topic 8 (level=2, total_words=273, documents=4): w77, w76, w71, w37, w36, w74, w72, w73, w30, w34, \n",
      "        topic 246 (level=2, total_words=162, documents=2): w37, w36, w30, w38, w31, w34, w97, w98, w33, w95, \n",
      "        topic 257 (level=2, total_words=75, documents=2): w48, w43, w47, w40, w38, w45, w31, w34, w37, w46, \n",
      "..................................................\n",
      "topic 0 (level=0, total_words=14535, documents=100): w1, w6, w3, w7, w8, w2, w4, w9, w0, w5, \n",
      "    topic 1 (level=1, total_words=4495, documents=85): w10, w14, w19, w16, w15, w11, w12, w1, w13, w18, \n",
      "        topic 2 (level=2, total_words=2528, documents=55): w27, w26, w28, w22, w25, w24, w29, w21, w23, w20, \n",
      "        topic 6 (level=2, total_words=56, documents=3): w91, w71, w61, w81, w4, w0, w31, w21, w18, w17, \n",
      "        topic 7 (level=2, total_words=206, documents=7): w88, w83, w82, w87, w84, w86, w17, w89, w81, w6, \n",
      "        topic 9 (level=2, total_words=1617, documents=16): w37, w36, w38, w30, w34, w31, w33, w52, w56, w35, \n",
      "        topic 293 (level=2, total_words=0, documents=3): w99, w36, w26, w27, w28, w29, w30, w31, w32, w33, \n",
      "        topic 294 (level=2, total_words=77, documents=1): w48, w43, w47, w40, w38, w31, w45, w37, w34, w30, \n",
      "    topic 3 (level=1, total_words=369, documents=15): w10, w14, w19, w16, w15, w11, w12, w3, w6, w7, \n",
      "        topic 4 (level=2, total_words=673, documents=8): w37, w64, w36, w38, w67, w65, w66, w69, w30, w34, \n",
      "        topic 8 (level=2, total_words=276, documents=3): w77, w76, w71, w37, w36, w74, w72, w73, w30, w34, \n",
      "        topic 288 (level=2, total_words=168, documents=4): w37, w36, w30, w38, w31, w34, w97, w33, w98, w95, \n",
      "..................................................\n",
      "topic 0 (level=0, total_words=14518, documents=100): w1, w6, w3, w7, w8, w4, w2, w9, w0, w5, \n",
      "    topic 1 (level=1, total_words=4587, documents=86): w10, w14, w19, w16, w15, w11, w12, w1, w13, w18, \n",
      "        topic 2 (level=2, total_words=2524, documents=51): w27, w26, w28, w22, w25, w24, w29, w21, w23, w20, \n",
      "        topic 6 (level=2, total_words=53, documents=2): w91, w71, w61, w18, w81, w4, w31, w9, w0, w51, \n",
      "        topic 7 (level=2, total_words=218, documents=10): w88, w83, w82, w87, w84, w3, w1, w86, w17, w81, \n",
      "        topic 9 (level=2, total_words=1626, documents=20): w37, w36, w38, w30, w34, w31, w33, w52, w7, w56, \n",
      "        topic 336 (level=2, total_words=82, documents=2): w48, w43, w47, w40, w38, w7, w45, w37, w34, w31, \n",
      "        topic 337 (level=2, total_words=0, documents=1): w99, w36, w26, w27, w28, w29, w30, w31, w32, w33, \n",
      "    topic 3 (level=1, total_words=275, documents=14): w10, w19, w14, w16, w11, w15, w12, w17, w7, w13, \n",
      "        topic 4 (level=2, total_words=682, documents=11): w37, w36, w64, w38, w67, w65, w66, w69, w30, w34, \n",
      "        topic 8 (level=2, total_words=288, documents=2): w77, w76, w71, w37, w36, w1, w74, w72, w73, w30, \n",
      "        topic 339 (level=2, total_words=147, documents=1): w37, w36, w30, w38, w31, w97, w34, w7, w98, w95, \n",
      "..................................................\n",
      "topic 0 (level=0, total_words=14668, documents=100): w1, w6, w3, w7, w8, w4, w2, w9, w0, w5, \n",
      "    topic 1 (level=1, total_words=4187, documents=82): w10, w14, w19, w16, w15, w11, w12, w1, w18, w13, \n",
      "        topic 2 (level=2, total_words=2457, documents=54): w27, w26, w28, w22, w25, w24, w29, w21, w23, w20, \n",
      "        topic 6 (level=2, total_words=58, documents=2): w91, w71, w61, w81, w4, w8, w31, w10, w21, w1, \n",
      "        topic 7 (level=2, total_words=214, documents=7): w88, w83, w82, w87, w84, w89, w86, w19, w4, w81, \n",
      "        topic 9 (level=2, total_words=1604, documents=18): w37, w36, w38, w30, w34, w31, w33, w52, w56, w58, \n",
      "        topic 385 (level=2, total_words=75, documents=1): w48, w43, w47, w40, w38, w45, w37, w34, w31, w30, \n",
      "    topic 3 (level=1, total_words=623, documents=18): w10, w14, w19, w16, w11, w15, w12, w17, w13, w6, \n",
      "        topic 4 (level=2, total_words=679, documents=12): w37, w36, w64, w38, w65, w67, w66, w69, w30, w34, \n",
      "        topic 8 (level=2, total_words=272, documents=3): w77, w76, w71, w37, w36, w74, w72, w73, w30, w33, \n",
      "        topic 374 (level=2, total_words=163, documents=3): w37, w36, w38, w30, w31, w97, w34, w98, w33, w95, \n",
      "..................................................\n",
      "topic 0 (level=0, total_words=14447, documents=100): w1, w6, w3, w7, w8, w4, w2, w9, w0, w5, \n",
      "    topic 1 (level=1, total_words=4834, documents=91): w10, w14, w19, w16, w15, w11, w12, w1, w13, w18, \n",
      "        topic 2 (level=2, total_words=2609, documents=54): w27, w26, w28, w22, w25, w24, w29, w21, w23, w20, \n",
      "        topic 6 (level=2, total_words=60, documents=4): w91, w71, w6, w61, w81, w3, w31, w4, w21, w2, \n",
      "        topic 7 (level=2, total_words=200, documents=7): w88, w83, w82, w87, w84, w17, w89, w86, w10, w81, \n",
      "        topic 9 (level=2, total_words=1675, documents=19): w37, w36, w38, w30, w34, w31, w7, w33, w52, w56, \n",
      "        topic 416 (level=2, total_words=179, documents=6): w37, w36, w38, w30, w31, w34, w97, w98, w33, w95, \n",
      "        topic 435 (level=2, total_words=78, documents=1): w48, w43, w47, w40, w38, w45, w31, w37, w34, w46, \n",
      "    topic 3 (level=1, total_words=6, documents=9): w7, w1, w30, w33, w34, w99, w37, w27, w28, w29, \n",
      "        topic 4 (level=2, total_words=641, documents=7): w37, w36, w64, w38, w67, w65, w66, w69, w30, w34, \n",
      "        topic 8 (level=2, total_words=271, documents=2): w77, w76, w71, w37, w36, w74, w72, w73, w30, w34, \n",
      "..................................................\n",
      "topic 0 (level=0, total_words=14468, documents=100): w1, w6, w3, w7, w8, w4, w2, w9, w0, w5, \n",
      "    topic 1 (level=1, total_words=4040, documents=80): w10, w14, w19, w16, w15, w11, w12, w1, w13, w17, \n",
      "        topic 2 (level=2, total_words=2564, documents=51): w27, w26, w28, w22, w25, w24, w29, w21, w23, w20, \n",
      "        topic 6 (level=2, total_words=61, documents=3): w91, w71, w9, w61, w14, w31, w4, w5, w81, w21, \n",
      "        topic 7 (level=2, total_words=210, documents=7): w88, w83, w82, w87, w84, w2, w86, w89, w81, w4, \n",
      "        topic 9 (level=2, total_words=1578, documents=19): w37, w36, w38, w30, w34, w31, w33, w52, w56, w35, \n",
      "    topic 3 (level=1, total_words=889, documents=20): w10, w14, w19, w16, w15, w11, w6, w12, w1, w13, \n",
      "        topic 4 (level=2, total_words=655, documents=8): w37, w36, w64, w38, w67, w65, w66, w69, w30, w34, \n",
      "        topic 8 (level=2, total_words=293, documents=4): w77, w76, w71, w37, w36, w74, w72, w1, w7, w73, \n",
      "        topic 478 (level=2, total_words=166, documents=4): w37, w36, w38, w30, w97, w34, w31, w33, w98, w95, \n",
      "        topic 489 (level=2, total_words=0, documents=1): w99, w36, w26, w27, w28, w29, w30, w31, w32, w33, \n",
      "        topic 490 (level=2, total_words=76, documents=3): w48, w43, w47, w40, w38, w45, w31, w37, w34, w36, \n",
      "..................................................\n",
      "topic 0 (level=0, total_words=14421, documents=100): w1, w6, w3, w7, w8, w4, w2, w9, w0, w5, \n",
      "    topic 1 (level=1, total_words=4655, documents=84): w10, w14, w19, w16, w15, w11, w12, w1, w13, w6, \n",
      "        topic 2 (level=2, total_words=2508, documents=53): w27, w26, w28, w22, w25, w24, w29, w21, w23, w20, \n",
      "        topic 6 (level=2, total_words=61, documents=4): w91, w71, w14, w1, w61, w81, w31, w9, w21, w18, \n",
      "        topic 7 (level=2, total_words=217, documents=7): w88, w83, w82, w87, w84, w1, w86, w89, w81, w6, \n",
      "        topic 9 (level=2, total_words=1603, documents=20): w37, w36, w38, w30, w34, w31, w33, w52, w56, w35, \n",
      "    topic 3 (level=1, total_words=318, documents=16): w10, w16, w14, w19, w15, w11, w1, w8, w12, w6, \n",
      "        topic 4 (level=2, total_words=697, documents=8): w37, w36, w64, w38, w67, w65, w66, w69, w30, w34, \n",
      "        topic 8 (level=2, total_words=285, documents=3): w77, w76, w71, w37, w36, w74, w72, w73, w30, w34, \n",
      "        topic 529 (level=2, total_words=159, documents=2): w37, w36, w38, w30, w31, w34, w97, w33, w98, w95, \n",
      "        topic 534 (level=2, total_words=76, documents=3): w48, w43, w47, w40, w38, w45, w31, w37, w34, w46, \n",
      "..................................................\n",
      "topic 0 (level=0, total_words=14433, documents=100): w1, w6, w3, w7, w8, w4, w2, w9, w0, w5, \n",
      "    topic 1 (level=1, total_words=4758, documents=90): w10, w14, w19, w16, w15, w11, w12, w13, w18, w1, \n",
      "        topic 2 (level=2, total_words=2648, documents=54): w27, w26, w28, w22, w25, w24, w29, w21, w23, w20, \n",
      "        topic 6 (level=2, total_words=55, documents=2): w91, w71, w61, w14, w31, w81, w18, w16, w21, w9, \n",
      "        topic 7 (level=2, total_words=210, documents=8): w88, w83, w82, w87, w84, w86, w89, w81, w4, w17, \n",
      "        topic 9 (level=2, total_words=1687, documents=19): w37, w36, w38, w30, w34, w31, w33, w52, w56, w7, \n",
      "        topic 580 (level=2, total_words=169, documents=5): w37, w36, w38, w30, w97, w34, w31, w98, w33, w95, \n",
      "        topic 583 (level=2, total_words=74, documents=2): w48, w43, w47, w38, w40, w31, w34, w37, w45, w49, \n",
      "    topic 3 (level=1, total_words=29, documents=10): w10, w19, w16, w14, w18, w27, w34, w22, w15, w11, \n",
      "        topic 4 (level=2, total_words=649, documents=7): w37, w36, w64, w38, w65, w67, w66, w69, w30, w34, \n",
      "        topic 8 (level=2, total_words=288, documents=3): w77, w76, w71, w37, w36, w74, w72, w73, w30, w34, \n",
      "."
     ]
    },
    {
     "ename": "KeyboardInterrupt",
     "evalue": "",
     "output_type": "error",
     "traceback": [
      "\u001b[0;31m---------------------------------------------------------------------------\u001b[0m",
      "\u001b[0;31mKeyboardInterrupt\u001b[0m                         Traceback (most recent call last)",
      "\u001b[0;32m<ipython-input-178-5306aa612ea2>\u001b[0m in \u001b[0;36m<module>\u001b[0;34m()\u001b[0m\n\u001b[1;32m      1\u001b[0m \u001b[0mn_samples\u001b[0m \u001b[0;34m=\u001b[0m \u001b[0;36m1000\u001b[0m\u001b[0;34m\u001b[0m\u001b[0m\n\u001b[1;32m      2\u001b[0m \u001b[0mhlda\u001b[0m \u001b[0;34m=\u001b[0m \u001b[0mHierarchicalLDA\u001b[0m\u001b[0;34m(\u001b[0m\u001b[0mnew_corpus\u001b[0m\u001b[0;34m,\u001b[0m \u001b[0mvocab\u001b[0m\u001b[0;34m,\u001b[0m \u001b[0malpha\u001b[0m\u001b[0;34m=\u001b[0m\u001b[0;36m1\u001b[0m\u001b[0;34m,\u001b[0m \u001b[0mgamma\u001b[0m\u001b[0;34m=\u001b[0m\u001b[0;36m1.0\u001b[0m\u001b[0;34m,\u001b[0m \u001b[0meta\u001b[0m\u001b[0;34m=\u001b[0m\u001b[0;36m1.0\u001b[0m\u001b[0;34m,\u001b[0m \u001b[0mnum_levels\u001b[0m\u001b[0;34m=\u001b[0m\u001b[0;36m3\u001b[0m\u001b[0;34m)\u001b[0m\u001b[0;34m\u001b[0m\u001b[0m\n\u001b[0;32m----> 3\u001b[0;31m \u001b[0mhlda\u001b[0m\u001b[0;34m.\u001b[0m\u001b[0mestimate\u001b[0m\u001b[0;34m(\u001b[0m\u001b[0mn_samples\u001b[0m\u001b[0;34m,\u001b[0m \u001b[0mdisplay_topics\u001b[0m\u001b[0;34m=\u001b[0m\u001b[0;36m50\u001b[0m\u001b[0;34m,\u001b[0m \u001b[0mn_words\u001b[0m\u001b[0;34m=\u001b[0m\u001b[0;36m10\u001b[0m\u001b[0;34m,\u001b[0m \u001b[0mwith_weights\u001b[0m\u001b[0;34m=\u001b[0m\u001b[0mFalse\u001b[0m\u001b[0;34m)\u001b[0m\u001b[0;34m\u001b[0m\u001b[0m\n\u001b[0m",
      "\u001b[0;32m/Users/joewandy/git/hlda/hlda.py\u001b[0m in \u001b[0;36mestimate\u001b[0;34m(self, num_samples, display_topics, n_words, with_weights)\u001b[0m\n\u001b[1;32m    196\u001b[0m \u001b[0;34m\u001b[0m\u001b[0m\n\u001b[1;32m    197\u001b[0m             \u001b[0;32mfor\u001b[0m \u001b[0md\u001b[0m \u001b[0;32min\u001b[0m \u001b[0mrange\u001b[0m\u001b[0;34m(\u001b[0m\u001b[0mlen\u001b[0m\u001b[0;34m(\u001b[0m\u001b[0mself\u001b[0m\u001b[0;34m.\u001b[0m\u001b[0mcorpus\u001b[0m\u001b[0;34m)\u001b[0m\u001b[0;34m)\u001b[0m\u001b[0;34m:\u001b[0m\u001b[0;34m\u001b[0m\u001b[0m\n\u001b[0;32m--> 198\u001b[0;31m                 \u001b[0mself\u001b[0m\u001b[0;34m.\u001b[0m\u001b[0msample_topics\u001b[0m\u001b[0;34m(\u001b[0m\u001b[0md\u001b[0m\u001b[0;34m)\u001b[0m\u001b[0;34m\u001b[0m\u001b[0m\n\u001b[0m\u001b[1;32m    199\u001b[0m \u001b[0;34m\u001b[0m\u001b[0m\n\u001b[1;32m    200\u001b[0m             \u001b[0;32mif\u001b[0m \u001b[0;34m(\u001b[0m\u001b[0ms\u001b[0m \u001b[0;34m>\u001b[0m \u001b[0;36m0\u001b[0m\u001b[0;34m)\u001b[0m \u001b[0;32mand\u001b[0m \u001b[0;34m(\u001b[0m\u001b[0;34m(\u001b[0m\u001b[0ms\u001b[0m\u001b[0;34m+\u001b[0m\u001b[0;36m1\u001b[0m\u001b[0;34m)\u001b[0m \u001b[0;34m%\u001b[0m \u001b[0mdisplay_topics\u001b[0m \u001b[0;34m==\u001b[0m \u001b[0;36m0\u001b[0m\u001b[0;34m)\u001b[0m\u001b[0;34m:\u001b[0m\u001b[0;34m\u001b[0m\u001b[0m\n",
      "\u001b[0;32m/Users/joewandy/git/hlda/hlda.py\u001b[0m in \u001b[0;36msample_topics\u001b[0;34m(self, d)\u001b[0m\n\u001b[1;32m    367\u001b[0m                     \u001b[0;34m(\u001b[0m\u001b[0mself\u001b[0m\u001b[0;34m.\u001b[0m\u001b[0meta\u001b[0m \u001b[0;34m+\u001b[0m \u001b[0mpath\u001b[0m\u001b[0;34m[\u001b[0m\u001b[0mlevel\u001b[0m\u001b[0;34m]\u001b[0m\u001b[0;34m.\u001b[0m\u001b[0mword_counts\u001b[0m\u001b[0;34m[\u001b[0m\u001b[0mw\u001b[0m\u001b[0;34m]\u001b[0m\u001b[0;34m)\u001b[0m \u001b[0;34m/\u001b[0m\u001b[0;31m \u001b[0m\u001b[0;31m \u001b[0m\u001b[0;31m \u001b[0m\u001b[0;31m \u001b[0m\u001b[0;31m \u001b[0m\u001b[0;31m \u001b[0m\u001b[0;31m \u001b[0m\u001b[0;31m \u001b[0m\u001b[0;31m \u001b[0m\u001b[0;31m \u001b[0m\u001b[0;31m \u001b[0m\u001b[0;31m \u001b[0m\u001b[0;31m \u001b[0m\u001b[0;31m \u001b[0m\u001b[0;31m \u001b[0m\u001b[0;31m \u001b[0m\u001b[0;31m \u001b[0m\u001b[0;31m \u001b[0m\u001b[0;31m \u001b[0m\u001b[0;31m \u001b[0m\u001b[0;31m \u001b[0m\u001b[0;31m \u001b[0m\u001b[0;31m \u001b[0m\u001b[0;31m \u001b[0m\u001b[0;31m \u001b[0m\u001b[0;31m \u001b[0m\u001b[0;31m \u001b[0m\u001b[0;31m \u001b[0m\u001b[0;31m \u001b[0m\u001b[0;31m \u001b[0m\u001b[0;31m \u001b[0m\u001b[0;31m \u001b[0m\u001b[0;31m \u001b[0m\u001b[0;31m \u001b[0m\u001b[0;31m \u001b[0m\u001b[0;31m\\\u001b[0m\u001b[0;34m\u001b[0m\u001b[0m\n\u001b[1;32m    368\u001b[0m                     \u001b[0;34m(\u001b[0m\u001b[0mself\u001b[0m\u001b[0;34m.\u001b[0m\u001b[0meta_sum\u001b[0m \u001b[0;34m+\u001b[0m \u001b[0mpath\u001b[0m\u001b[0;34m[\u001b[0m\u001b[0mlevel\u001b[0m\u001b[0;34m]\u001b[0m\u001b[0;34m.\u001b[0m\u001b[0mtotal_words\u001b[0m\u001b[0;34m)\u001b[0m\u001b[0;34m\u001b[0m\u001b[0m\n\u001b[0;32m--> 369\u001b[0;31m             \u001b[0mlevel_weights\u001b[0m \u001b[0;34m=\u001b[0m \u001b[0mlevel_weights\u001b[0m \u001b[0;34m/\u001b[0m \u001b[0mnp\u001b[0m\u001b[0;34m.\u001b[0m\u001b[0msum\u001b[0m\u001b[0;34m(\u001b[0m\u001b[0mlevel_weights\u001b[0m\u001b[0;34m)\u001b[0m\u001b[0;34m\u001b[0m\u001b[0m\n\u001b[0m\u001b[1;32m    370\u001b[0m             \u001b[0mlevel\u001b[0m \u001b[0;34m=\u001b[0m \u001b[0mself\u001b[0m\u001b[0;34m.\u001b[0m\u001b[0mrandom_state\u001b[0m\u001b[0;34m.\u001b[0m\u001b[0mmultinomial\u001b[0m\u001b[0;34m(\u001b[0m\u001b[0;36m1\u001b[0m\u001b[0;34m,\u001b[0m \u001b[0mlevel_weights\u001b[0m\u001b[0;34m)\u001b[0m\u001b[0;34m.\u001b[0m\u001b[0margmax\u001b[0m\u001b[0;34m(\u001b[0m\u001b[0;34m)\u001b[0m\u001b[0;34m\u001b[0m\u001b[0m\n\u001b[1;32m    371\u001b[0m \u001b[0;34m\u001b[0m\u001b[0m\n",
      "\u001b[0;32m/Users/joewandy/anaconda/lib/python2.7/site-packages/numpy/core/fromnumeric.pyc\u001b[0m in \u001b[0;36msum\u001b[0;34m(a, axis, dtype, out, keepdims)\u001b[0m\n\u001b[1;32m   1838\u001b[0m     \u001b[0;32melse\u001b[0m\u001b[0;34m:\u001b[0m\u001b[0;34m\u001b[0m\u001b[0m\n\u001b[1;32m   1839\u001b[0m         return _methods._sum(a, axis=axis, dtype=dtype,\n\u001b[0;32m-> 1840\u001b[0;31m                              out=out, keepdims=keepdims)\n\u001b[0m\u001b[1;32m   1841\u001b[0m \u001b[0;34m\u001b[0m\u001b[0m\n\u001b[1;32m   1842\u001b[0m \u001b[0;34m\u001b[0m\u001b[0m\n",
      "\u001b[0;32m/Users/joewandy/anaconda/lib/python2.7/site-packages/numpy/core/_methods.pyc\u001b[0m in \u001b[0;36m_sum\u001b[0;34m(a, axis, dtype, out, keepdims)\u001b[0m\n\u001b[1;32m     30\u001b[0m \u001b[0;34m\u001b[0m\u001b[0m\n\u001b[1;32m     31\u001b[0m \u001b[0;32mdef\u001b[0m \u001b[0m_sum\u001b[0m\u001b[0;34m(\u001b[0m\u001b[0ma\u001b[0m\u001b[0;34m,\u001b[0m \u001b[0maxis\u001b[0m\u001b[0;34m=\u001b[0m\u001b[0mNone\u001b[0m\u001b[0;34m,\u001b[0m \u001b[0mdtype\u001b[0m\u001b[0;34m=\u001b[0m\u001b[0mNone\u001b[0m\u001b[0;34m,\u001b[0m \u001b[0mout\u001b[0m\u001b[0;34m=\u001b[0m\u001b[0mNone\u001b[0m\u001b[0;34m,\u001b[0m \u001b[0mkeepdims\u001b[0m\u001b[0;34m=\u001b[0m\u001b[0mFalse\u001b[0m\u001b[0;34m)\u001b[0m\u001b[0;34m:\u001b[0m\u001b[0;34m\u001b[0m\u001b[0m\n\u001b[0;32m---> 32\u001b[0;31m     \u001b[0;32mreturn\u001b[0m \u001b[0mumr_sum\u001b[0m\u001b[0;34m(\u001b[0m\u001b[0ma\u001b[0m\u001b[0;34m,\u001b[0m \u001b[0maxis\u001b[0m\u001b[0;34m,\u001b[0m \u001b[0mdtype\u001b[0m\u001b[0;34m,\u001b[0m \u001b[0mout\u001b[0m\u001b[0;34m,\u001b[0m \u001b[0mkeepdims\u001b[0m\u001b[0;34m)\u001b[0m\u001b[0;34m\u001b[0m\u001b[0m\n\u001b[0m\u001b[1;32m     33\u001b[0m \u001b[0;34m\u001b[0m\u001b[0m\n\u001b[1;32m     34\u001b[0m \u001b[0;32mdef\u001b[0m \u001b[0m_prod\u001b[0m\u001b[0;34m(\u001b[0m\u001b[0ma\u001b[0m\u001b[0;34m,\u001b[0m \u001b[0maxis\u001b[0m\u001b[0;34m=\u001b[0m\u001b[0mNone\u001b[0m\u001b[0;34m,\u001b[0m \u001b[0mdtype\u001b[0m\u001b[0;34m=\u001b[0m\u001b[0mNone\u001b[0m\u001b[0;34m,\u001b[0m \u001b[0mout\u001b[0m\u001b[0;34m=\u001b[0m\u001b[0mNone\u001b[0m\u001b[0;34m,\u001b[0m \u001b[0mkeepdims\u001b[0m\u001b[0;34m=\u001b[0m\u001b[0mFalse\u001b[0m\u001b[0;34m)\u001b[0m\u001b[0;34m:\u001b[0m\u001b[0;34m\u001b[0m\u001b[0m\n",
      "\u001b[0;31mKeyboardInterrupt\u001b[0m: "
     ]
    }
   ],
   "source": [
    "n_samples = 1000\n",
    "hlda = HierarchicalLDA(new_corpus, vocab, alpha=1, gamma=1.0, eta=1.0, num_levels=3)\n",
    "hlda.estimate(n_samples, display_topics=50, n_words=10, with_weights=False)"
   ]
  },
  {
   "cell_type": "code",
   "execution_count": null,
   "metadata": {
    "collapsed": true
   },
   "outputs": [],
   "source": []
  }
 ],
 "metadata": {
  "kernelspec": {
   "display_name": "Python 2",
   "language": "python",
   "name": "python2"
  },
  "language_info": {
   "codemirror_mode": {
    "name": "ipython",
    "version": 2
   },
   "file_extension": ".py",
   "mimetype": "text/x-python",
   "name": "python",
   "nbconvert_exporter": "python",
   "pygments_lexer": "ipython2",
   "version": "2.7.11"
  }
 },
 "nbformat": 4,
 "nbformat_minor": 0
}
